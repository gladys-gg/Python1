{
  "nbformat": 4,
  "nbformat_minor": 0,
  "metadata": {
    "colab": {
      "name": "Second.ipynb",
      "provenance": [],
      "collapsed_sections": [],
      "authorship_tag": "ABX9TyNDFjwR4aVWJZAM5RMYab4a",
      "include_colab_link": true
    },
    "kernelspec": {
      "name": "python3",
      "display_name": "Python 3"
    },
    "language_info": {
      "name": "python"
    }
  },
  "cells": [
    {
      "cell_type": "markdown",
      "metadata": {
        "id": "view-in-github",
        "colab_type": "text"
      },
      "source": [
        "<a href=\"https://colab.research.google.com/github/gladys-gg/Python1/blob/main/Second.ipynb\" target=\"_parent\"><img src=\"https://colab.research.google.com/assets/colab-badge.svg\" alt=\"Open In Colab\"/></a>"
      ]
    },
    {
      "cell_type": "code",
      "metadata": {
        "colab": {
          "base_uri": "https://localhost:8080/"
        },
        "id": "ZLQOJpD5GyLd",
        "outputId": "f741aebb-8fe1-426f-deae-225338074de2"
      },
      "source": [
        "firstname= input('Enter your first name: ')\n",
        "lastname= input('Enter your last name: ')\n",
        "fullnames= (firstname+\" \"+lastname)\n",
        "Country= input('Enter your country of origin: ')\n",
        "Occupation= input('Enter your current job: ')\n",
        "Emailaddress=firstname + lastname + '@' + firstname.lower() + lastname.lower() + '.com'\n",
        "Phonenumber=input('Enter your phone number with the country code: ')\n",
        "City= input('Enter current city of residence: ')\n",
        "Physicaladdress= input('Enter your physical address: ')\n",
        "print()\n",
        "print('Name: ' +fullnames)\n",
        "print('Country: ' +Country)\n",
        "print('Occupation: '+Occupation)\n",
        "print('Email: '+Emailaddress)\n",
        "print('Phone: '+Phonenumber)\n",
        "print('City: '+City)\n",
        "print('Address: '+Physicaladdress)\n",
        "\n"
      ],
      "execution_count": 9,
      "outputs": [
        {
          "output_type": "stream",
          "text": [
            "Enter your first name: Jay\n",
            "Enter your last name: jay\n",
            "Enter your country of origin: Kenya\n",
            "Enter your current job: Developer\n",
            "Enter your phone number: +254112312312\n",
            "Enter current city of residence: Nairobi\n",
            "Enter your physical address: Nairobi\n",
            "\n",
            "Name: Jay jay\n",
            "Country: Kenya\n",
            "Occupation: Developer\n",
            "Email: Jayjay@jayjay.com\n",
            "Phone: +254112312312\n",
            "City: Nairobi\n",
            "Address: Nairobi\n"
          ],
          "name": "stdout"
        }
      ]
    }
  ]
}