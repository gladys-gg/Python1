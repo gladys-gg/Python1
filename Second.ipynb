{
  "nbformat": 4,
  "nbformat_minor": 0,
  "metadata": {
    "colab": {
      "name": "Second.ipynb",
      "provenance": [],
      "collapsed_sections": [],
      "authorship_tag": "ABX9TyNXrBAwfZOE9wGHlfi1fRsx",
      "include_colab_link": true
    },
    "kernelspec": {
      "name": "python3",
      "display_name": "Python 3"
    },
    "language_info": {
      "name": "python"
    }
  },
  "cells": [
    {
      "cell_type": "markdown",
      "metadata": {
        "id": "view-in-github",
        "colab_type": "text"
      },
      "source": [
        "<a href=\"https://colab.research.google.com/github/gladys-gg/Python1/blob/main/Second.ipynb\" target=\"_parent\"><img src=\"https://colab.research.google.com/assets/colab-badge.svg\" alt=\"Open In Colab\"/></a>"
      ]
    },
    {
      "cell_type": "code",
      "metadata": {
        "colab": {
          "base_uri": "https://localhost:8080/"
        },
        "id": "ZLQOJpD5GyLd",
        "outputId": "4d7fbf0b-1449-4a94-d0b9-3cc646a13d4b"
      },
      "source": [
        "firstname= input('Enter your first name: ')\n",
        "lastname= input('Enter your last name: ')\n",
        "fullnames= (firstname+\" \"+lastname)\n",
        "Country= input('Enter your country of origin: ')\n",
        "Occupation= input('Enter your current job: ')\n",
        "Emailaddress= input('Enter your email address: ')\n",
        "Phonenumber=input('Enter your phone number: ')\n",
        "City= input('Enter current city of residence: ')\n",
        "Physicaladdress= input('Enter your physical address: ')\n",
        "print()\n",
        "print(fullnames)\n",
        "print(Country)\n",
        "print(Occupation)\n",
        "print(Emailaddress)\n",
        "print(Phonenumber)\n",
        "print(City)\n",
        "print(Physicaladdress)\n",
        "\n"
      ],
      "execution_count": 7,
      "outputs": [
        {
          "output_type": "stream",
          "text": [
            "Enter your first name: Ryan\n",
            "Enter your last name: Sila\n",
            "Enter your country of origin: Kenya\n",
            "Enter your current job: Surgeon\n",
            "Enter your email address: rysila@gmail.com\n",
            "Enter your phone number: +254700789456\n",
            "Enter current city of residence: Thika\n",
            "Enter your physical address: 12704 Thika\n",
            "\n",
            "Ryan Sila\n",
            "Kenya\n",
            "Surgeon\n",
            "rysila@gmail.com\n",
            "+254700789456\n",
            "Thika\n",
            "12704 Thika\n"
          ],
          "name": "stdout"
        }
      ]
    }
  ]
}