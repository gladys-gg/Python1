{
  "nbformat": 4,
  "nbformat_minor": 0,
  "metadata": {
    "colab": {
      "name": "credit.ipynb",
      "provenance": [],
      "authorship_tag": "ABX9TyNwF3Rti1tHB6S5inUUPxOV",
      "include_colab_link": true
    },
    "kernelspec": {
      "name": "python3",
      "display_name": "Python 3"
    },
    "language_info": {
      "name": "python"
    }
  },
  "cells": [
    {
      "cell_type": "markdown",
      "metadata": {
        "id": "view-in-github",
        "colab_type": "text"
      },
      "source": [
        "<a href=\"https://colab.research.google.com/github/gladys-gg/Python1/blob/main/credit.ipynb\" target=\"_parent\"><img src=\"https://colab.research.google.com/assets/colab-badge.svg\" alt=\"Open In Colab\"/></a>"
      ]
    },
    {
      "cell_type": "code",
      "metadata": {
        "colab": {
          "base_uri": "https://localhost:8080/"
        },
        "id": "PXRvg5dOwynf",
        "outputId": "f1385e4b-f343-4f87-85dc-63cf1470ed03"
      },
      "source": [
        "#Enter full names\n",
        "fname=input('Enter your first name: ')\n",
        "lname=input('Enter your lname: ')\n",
        "fullnames=(fname+\" \"+lname)\n",
        "\n",
        "#Enter phone and email\n",
        "phone=input(\"Enter Customer's Phone Number: \")\n",
        "email = input(\"Enter Customer's Email: \")\n",
        "\n",
        "#price of a used car\n",
        "price = 10000.00\n",
        "has_good_credit = True;\n",
        "\n",
        "if has_good_credit:\n",
        "    down_payment = 0.1 * price\n",
        "else:\n",
        "    down_payment = 0.2 * price\n",
        "print()\n",
        "print(\"Full Names: \" +fullnames)\n",
        "print(\"Phone: \" +phone)\n",
        "print(\"Email: \" + email)\n",
        "print(\"Down Payment: \"+str(down_payment))"
      ],
      "execution_count": 13,
      "outputs": [
        {
          "output_type": "stream",
          "text": [
            "Enter your first name: Kerry\n",
            "Enter your lname: Lavato\n",
            "Enter Customer's Phone Number: 1235236\n",
            "Enter Customer's Email: kl@ymail.com\n",
            "\n",
            "Full Names: Kerry Lavato\n",
            "Phone: 1235236\n",
            "Email: kl@ymail.com\n",
            "Down Payment: 1000.0\n"
          ],
          "name": "stdout"
        }
      ]
    }
  ]
}