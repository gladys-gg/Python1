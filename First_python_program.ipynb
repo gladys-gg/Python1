{
  "nbformat": 4,
  "nbformat_minor": 0,
  "metadata": {
    "colab": {
      "name": "First python program.ipynb",
      "provenance": [],
      "collapsed_sections": [],
      "authorship_tag": "ABX9TyPy9CucOu4PipjCnEqIIyx8",
      "include_colab_link": true
    },
    "kernelspec": {
      "name": "python3",
      "display_name": "Python 3"
    },
    "language_info": {
      "name": "python"
    }
  },
  "cells": [
    {
      "cell_type": "markdown",
      "metadata": {
        "id": "view-in-github",
        "colab_type": "text"
      },
      "source": [
        "<a href=\"https://colab.research.google.com/github/gladys-gg/Python1/blob/main/First_python_program.ipynb\" target=\"_parent\"><img src=\"https://colab.research.google.com/assets/colab-badge.svg\" alt=\"Open In Colab\"/></a>"
      ]
    },
    {
      "cell_type": "code",
      "metadata": {
        "colab": {
          "base_uri": "https://localhost:8080/"
        },
        "id": "uHfuysQ5SUzX",
        "outputId": "d1abf65d-62ea-4d15-bd54-c957442124a4"
      },
      "source": [
        "#Enter first and last name\n",
        "names = input(\"Enter first and last name\")\n",
        "print(names)\n",
        "print()\n",
        "#Enter your goals for this class\n",
        "print(\"What are your goals for this class - long term?\")\n",
        "goals = input('What would you like to be  - when you complete this course?')\n",
        "print(goals)"
      ],
      "execution_count": 2,
      "outputs": [
        {
          "output_type": "stream",
          "text": [
            "Enter first and last nameGladys Mwangi\n",
            "Gladys Mwangi\n",
            "\n",
            "What are your goals for this class - long term?\n",
            "What would you like to be  - when you complete this course?I would like to to be an applied data scientist\n",
            "I would like to to be an applied data scientist\n"
          ],
          "name": "stdout"
        }
      ]
    }
  ]
}